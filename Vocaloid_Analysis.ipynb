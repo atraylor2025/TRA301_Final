{
  "cells": [
    {
      "cell_type": "code",
      "execution_count": 1,
      "metadata": {
        "colab": {
          "base_uri": "https://localhost:8080/"
        },
        "id": "MrY-4TUMpCQs",
        "outputId": "0098c30d-1c18-4023-aa44-cd3404717d35"
      },
      "outputs": [
        {
          "output_type": "stream",
          "name": "stdout",
          "text": [
            "Mounted at /content/drive\n"
          ]
        }
      ],
      "source": [
        "from google.colab import drive\n",
        "drive.mount('/content/drive')"
      ]
    },
    {
      "cell_type": "code",
      "execution_count": 2,
      "metadata": {
        "id": "NaqnsY6OzjuU"
      },
      "outputs": [],
      "source": [
        "local_download_path = \"/content/drive/MyDrive/24-25/Machine Learning/\"\n",
        "download_path = local_download_path + \"vocadb_data.zip\"\n",
        "!cp \"{download_path}\" vocadb.zip\n",
        "!unzip -qo vocadb.zip"
      ]
    },
    {
      "cell_type": "code",
      "execution_count": 3,
      "metadata": {
        "id": "ZmZzjklWyMEa"
      },
      "outputs": [],
      "source": [
        "import pandas as pd\n",
        "import nltk\n",
        "import csv\n",
        "import os"
      ]
    },
    {
      "cell_type": "code",
      "execution_count": 4,
      "metadata": {
        "colab": {
          "base_uri": "https://localhost:8080/"
        },
        "id": "Z_ABZ1YK2CRZ",
        "outputId": "a37a7dbc-23e9-4bbd-b6a2-7feb62c4cfbb"
      },
      "outputs": [
        {
          "output_type": "stream",
          "name": "stdout",
          "text": [
            "Data Preview:\n",
            "          ID        Song Name                              Author Name  \\\n",
            "0     531653        RULE ～約束～                         トマ豆腐 feat. 神威がくぽ   \n",
            "1     123445        君、空、紙飛行機。                            立秋 feat. 初音ミク   \n",
            "2      66561         東ノ暁　西ノ黄昏             hinayukki feat. MEIKO, KAITO   \n",
            "3      49619            つきこもり                        ●テラピコス feat. 初音ミク   \n",
            "4       6083           シンメトリー                         Re:nG feat. 初音ミク   \n",
            "...      ...              ...                                      ...   \n",
            "2251  125019       メロディック妹メタル                     karimono feat. MEIKO   \n",
            "2252  533756    True My Heart                       ave;new feat. 佐倉紗織   \n",
            "2253  193997              you                             dai feat. 癒月   \n",
            "2254  592884       おはよう！！朝ご飯           Hiroto Sasaki feat. Mayako Nigo   \n",
            "2255  462705  Trick or Treat!  seiya-murai feat. Desmond, Robert, Andy   \n",
            "\n",
            "             Publish Date                                     English Lyrics  \\\n",
            "0     2008-12-31 00:00:00                                                NaN   \n",
            "1     2008-12-31 00:00:00                                                NaN   \n",
            "2     2008-12-31 00:00:00                                                NaN   \n",
            "3     2008-12-31 00:00:00                                                NaN   \n",
            "4     2008-12-31 00:00:00                                                NaN   \n",
            "...                   ...                                                ...   \n",
            "2251  2005-12-30 00:00:00  [Some lyrics are sung differently than they ar...   \n",
            "2252  2005-12-25 00:00:00                                                NaN   \n",
            "2253  2005-08-13 00:00:00  Where are you now, what are you doing?\\r\\nAre ...   \n",
            "2254  2005-07-26 00:00:00  (Lalalala it's morning! Lalalala\\r\\nLalalala i...   \n",
            "2255  2005-03-02 00:00:00  Trick or Treat! Trick or Treat!\\r\\nLittle devi...   \n",
            "\n",
            "                                        Japanese Lyrics  Rating  \n",
            "0     君にとって都合のいい人間（ひと）になりたい訳じゃない\\r\\n僕はこれからも僕を知る旅へ\\r\\...       0  \n",
            "1     ーサビー\\r\\n空に舞い上がった\\r\\n君の紙飛行機\\r\\nあの日　僕らが見た\\r\\n遠く　...       2  \n",
            "2     遥か彼方に光り輝く　昇る黄金　瞳眩しく\\r\\r\\n仰いだ両の手の平を照らす　東の暁\\r\\r\\...      18  \n",
            "3     猫が丸い　おこたの中\\r\\n夢の合間に覗く夢\\r\\n冬のまどろみ　心地よく\\r\\n昼間から　...       2  \n",
            "4      削られるばかりだ\\r\\n偽物(フェイク)の笑顔を切り売りして\\r\\n乾くばかりの喉を 痛め...       4  \n",
            "...                                                 ...     ...  \n",
            "2251  翠の木々　両手に眺めて\\r\\nあの場所目指し　のぼっていく\\r\\nほほを切る風が　環境（おと...      33  \n",
            "2252  true my heart　キミを近くで\\r\\n誰より感じたい\\r\\nclose to my...       3  \n",
            "2253  あなたは今どこで何をしていますか？\\r\\nこの空の続く場所にいますか？\\r\\n\\r\\n今まで...      21  \n",
            "2254  (ララララ朝だ！ ララララ\\r\\nララララ 朝だ！ ララララ\\r\\nララララ起きよう！) \\...       0  \n",
            "2255  Trick or Treat!　Trick or Treat!\\r\\nイタズラ好きな小悪魔の...       3  \n",
            "\n",
            "[2256 rows x 7 columns]\n",
            "Data overview:\n",
            "<class 'pandas.core.frame.DataFrame'>\n",
            "RangeIndex: 2256 entries, 0 to 2255\n",
            "Data columns (total 7 columns):\n",
            " #   Column           Non-Null Count  Dtype \n",
            "---  ------           --------------  ----- \n",
            " 0   ID               2256 non-null   int64 \n",
            " 1   Song Name        2256 non-null   object\n",
            " 2   Author Name      2256 non-null   object\n",
            " 3   Publish Date     2256 non-null   object\n",
            " 4   English Lyrics   369 non-null    object\n",
            " 5   Japanese Lyrics  2256 non-null   object\n",
            " 6   Rating           2256 non-null   int64 \n",
            "dtypes: int64(2), object(5)\n",
            "memory usage: 123.5+ KB\n",
            "None\n"
          ]
        }
      ],
      "source": [
        "ex_df = pd.read_csv('inputs/2005to2009.csv',sep=\"|\")\n",
        "\n",
        "# visual checks to make sure data is in correct format\n",
        "print(\"Data Preview:\")\n",
        "print(ex_df)\n",
        "print(\"Data overview:\")\n",
        "print(ex_df.info())"
      ]
    },
    {
      "cell_type": "code",
      "execution_count": 5,
      "metadata": {
        "colab": {
          "base_uri": "https://localhost:8080/"
        },
        "id": "hLjYJzc-xqlo",
        "outputId": "ee7ed14d-4276-47e1-f8af-7a14e5dd7c2d"
      },
      "outputs": [
        {
          "output_type": "stream",
          "name": "stdout",
          "text": [
            "<class 'pandas.core.frame.DataFrame'>\n",
            "Index: 66539 entries, 0 to 7738\n",
            "Data columns (total 7 columns):\n",
            " #   Column           Non-Null Count  Dtype \n",
            "---  ------           --------------  ----- \n",
            " 0   ID               66539 non-null  int64 \n",
            " 1   Song Name        66538 non-null  object\n",
            " 2   Author Name      66539 non-null  object\n",
            " 3   Publish Date     66539 non-null  object\n",
            " 4   English Lyrics   7791 non-null   object\n",
            " 5   Japanese Lyrics  66539 non-null  object\n",
            " 6   Rating           66539 non-null  int64 \n",
            "dtypes: int64(2), object(5)\n",
            "memory usage: 4.1+ MB\n",
            "None\n"
          ]
        }
      ],
      "source": [
        "data_pieces = []\n",
        "\n",
        "for filename in os.listdir(\"/content/inputs\"):\n",
        "    if filename.endswith(\"csv\"):\n",
        "        song_df = pd.read_csv(\"inputs/\" + filename, sep=\"|\")\n",
        "        data_pieces.append(song_df)\n",
        "\n",
        "all_data = pd.concat(data_pieces)\n",
        "print(all_data.info())"
      ]
    },
    {
      "cell_type": "code",
      "execution_count": 15,
      "metadata": {
        "id": "tkZPASgJRmWt",
        "colab": {
          "base_uri": "https://localhost:8080/"
        },
        "outputId": "56dff29b-84b2-4ad3-99cd-4effc3817999"
      },
      "outputs": [
        {
          "output_type": "stream",
          "name": "stdout",
          "text": [
            "Requirement already satisfied: faiss-cpu in /usr/local/lib/python3.11/dist-packages (1.11.0)\n",
            "Requirement already satisfied: numpy<3.0,>=1.25.0 in /usr/local/lib/python3.11/dist-packages (from faiss-cpu) (2.0.2)\n",
            "Requirement already satisfied: packaging in /usr/local/lib/python3.11/dist-packages (from faiss-cpu) (24.2)\n"
          ]
        }
      ],
      "source": [
        "!pip install faiss-cpu\n",
        "import torch.nn.functional as F\n",
        "import numpy as np\n",
        "\n",
        "from torch import Tensor\n",
        "from transformers import AutoTokenizer, AutoModel\n",
        "from sentence_transformers import SentenceTransformer"
      ]
    },
    {
      "cell_type": "code",
      "execution_count": 10,
      "metadata": {
        "id": "Ax64ehI8RpLD"
      },
      "outputs": [],
      "source": [
        "en_lyrics = all_data[\"English Lyrics\"].dropna().to_list()\n",
        "jp_lyrics = all_data[\"Japanese Lyrics\"].to_list()\n",
        "\n",
        "model = SentenceTransformer('intfloat/multilingual-e5-large-instruct')\n",
        "\n",
        "pool = model.start_multi_process_pool()\n",
        "en_emb = model.encode_multi_process(en_lyrics, pool)\n",
        "model.stop_multi_process_pool(pool)\n",
        "\n",
        "pool = model.start_multi_process_pool()\n",
        "jp_emb = model.encode_multi_process(jp_lyrics, pool)\n",
        "model.stop_multi_process_pool(pool)"
      ]
    },
    {
      "cell_type": "code",
      "source": [
        "import faiss\n",
        "\n",
        "d = en_emb.shape[1]\n",
        "\n",
        "nlist = 100\n",
        "m = 8\n",
        "k = 4\n",
        "quantizer = faiss.IndexFlatL2(d)\n",
        "en_index = faiss.IndexIVFPQ(quantizer, d, nlist, m, 8)\n",
        "\n",
        "en_index.train(en_emb)\n",
        "en_index.add(en_emb)\n",
        "\n",
        "jp_index = faiss.IndexIVFPQ(quantizer, d, nlist, m, 8)\n",
        "\n",
        "jp_index.train(jp_emb)\n",
        "jp_index.add(jp_emb)"
      ],
      "metadata": {
        "id": "XyA7kdjlbbkt"
      },
      "execution_count": 29,
      "outputs": []
    },
    {
      "cell_type": "code",
      "source": [
        "def get_song_from_id(id, use_en=False):\n",
        "  if use_en:\n",
        "    return en_lyrics[id]\n",
        "  else:\n",
        "    return jp_lyrics[id]\n",
        "\n",
        "def find_similar_lyrics(song_name, k, use_en=False):\n",
        "  song = all_data[all_data['Song Name'] == song_name]\n",
        "  if song.empty:\n",
        "    return []\n",
        "  song_en_lyrics = song['English Lyrics']\n",
        "  if not song_en_lyrics.empty:\n",
        "    song_en_lyrics = song_en_lyrics.values[0]\n",
        "  song_jp_lyrics = song['Japanese Lyrics']\n",
        "  if not song_jp_lyrics.empty:\n",
        "    song_jp_lyrics = song['Japanese Lyrics'].values[0]\n",
        "  if (isinstance(song_jp_lyrics, str) and not song_jp_lyrics) and (isinstance(song_en_lyrics, str) and not song_en_lyrics or pd.isna(song_en_lyrics)):\n",
        "    return []\n",
        "  if use_en:\n",
        "    en_ind = en_lyrics.index(song_en_lyrics)\n",
        "    D, I = en_index.search(en_emb[en_ind].reshape(1, -1).astype(np.float32), k)\n",
        "  else:\n",
        "    jp_ind = jp_lyrics.index(song_jp_lyrics)\n",
        "    D, I = jp_index.search(jp_emb[jp_ind].reshape(1, -1).astype(np.float32), k)\n",
        "  all_reccs = []\n",
        "  for item_list in I:\n",
        "    for item in item_list:\n",
        "      all_reccs.append(get_song_from_id(item, use_en))\n",
        "  return all_reccs"
      ],
      "metadata": {
        "id": "G0NbRvLhyoq8"
      },
      "execution_count": 56,
      "outputs": []
    },
    {
      "cell_type": "code",
      "source": [
        "print(find_similar_lyrics(\"ココロ\", 5))\n",
        "print(find_similar_lyrics(\"CIRCUS PANIC\", 5))"
      ],
      "metadata": {
        "colab": {
          "base_uri": "https://localhost:8080/"
        },
        "id": "kl-c1eQ601DN",
        "outputId": "986c165d-71b6-4a57-941d-dc454908bd26"
      },
      "execution_count": 58,
      "outputs": [
        {
          "output_type": "stream",
          "name": "stdout",
          "text": [
            "['道端に置いてきた\\r\\n怒り 悲しみ 憎しみ\\r\\n道端で拾ってきた\\r\\n喜び 楽しみ その感情\\r\\n\\r\\nころころ変わる僕の心\\r\\nガラスのように砕けて\\r\\n散って 散って 散って\\r\\nその破片を拾い集めたら\\r\\n何ができるのだろうか\\r\\n\\r\\nさあさあどうしようか\\r\\nどうしようか\\r\\n散りばめられた破片は\\r\\n星のように舞う\\r\\n\\r\\nさあさあどうしようか\\r\\nどうしようか\\r\\nもう復元不可能？\\r\\n小さく聞こえる君の声\\r\\n\\r\\n砕けていたのは僕自身でした\\r\\n', '砕けた欠片集めても元には\\r\\nもう戻れはしない\\r\\n鮮やかで儚げに\\r\\n知らない誰かが投げた世界の終わりで\\r\\n伝わらない気持ち抱えて\\r\\n\\r\\n「その手で触れたら二つにも三つにも」\\r\\n幸せな嘘で満たされていく日々\\r\\nうまく思い出せない夢\\r\\n不安定な記憶\\r\\n溶けていく心に黒い影が差し込む\\r\\n\\r\\n※\\r\\n見せかけの固い表面は\\r\\nもろく崩れゆく中身ととなりあわせ\\r\\n割られ砕かれ儚く散りゆくだけ\\r\\nやるせのない気持ち抱えて\\r\\n\\r\\n不意に切り出された思い出と\\r\\n口の中で消えてゆくビスケット\\r\\n遠くに聞こえた飛行機の飛ぶ音に\\r\\n空振りの気持ち重ねた\\r\\n\\r\\n※繰り返し', 'ともされる灯りはいつも消えそうでも\\r\\nまぶしくもないくらい生き延びている\\r\\n向けられた怒りも\\u3000塗り重ねた罪も\\r\\n思い出せなくなる\\r\\n\\r\\n寂れた世界に告げて\\r\\n終わりにしよう\\u3000綺麗なままで\\r\\n足もとめられない\\u3000軽薄に打ち捨てられている\\r\\n売れ残りの迷子\\r\\n\\r\\n凍えた声すらむなしく響いてる\\r\\nわずかに残る繋がりかけの愛\\r\\nかわされた言葉も\\u3000そむけられた目も\\r\\nどうにでもよくなる\\r\\n\\r\\n見れない夢にすがる\\r\\n終わりにしよう\\u3000知らないままでいい\\r\\n気にもとめられない\\u3000路地裏にはねのけても\\r\\n知らないふりしたいだけなの\\r\\n\\r\\n寂れた世界に告げて\\r\\n終わりにしよう\\u3000綺麗なままで\\r\\n足もとめられない\\u3000軽薄に打ち捨てられている\\r\\n売れ残りの迷子', '気の向くまま生きる\\u3000ただ何を背負い込めというんだ \\r\\n錆び着いた感覚\\u3000意味もなくなってる\\r\\n\\r\\n出会いは罪を作る為に有る？ \\r\\n誘う傷を \\r\\nこの世界は広すぎる\\u3000寂しさなど無視して\\r\\n\\r\\nああ\\u3000サヨナラの行方さえ分からず \\r\\nただ\\u3000寂しさから解放される \\r\\nもう\\u3000きっと僕に何が足りないか \\r\\n何もいらない\\r\\n\\r\\n\\r\\n気のすむまま生きる\\u3000ただ断ち切りたいだけなんだ \\r\\n錆び着かせた色は\\u3000意味もなく消える\\r\\n\\r\\n別れに慣れていたはずの僕に \\r\\n誘う寂しさ \\r\\nこの世界は広すぎて\\u3000息が苦しくて\\r\\n\\r\\nああ\\u3000カナシミの行方さえ分からず \\r\\n今\\u3000変わることを期待はしない \\r\\nもう\\u3000きっと僕に何が足りないか \\r\\n君はしらない？\\r\\n\\r\\n\\r\\n出逢い別れ\\u3000繰り返してくけど \\r\\n流れる\\u3000運命（さだめ） \\r\\n逆らうのは自分たち \\r\\nこの世界は広いさ\\r\\n\\r\\nサヨナラの行方さえ分からず \\r\\nただ\\u3000寂しさから解放される \\r\\nもう\\u3000きっと僕に何が足りないか \\r\\n何もいらない\\r\\n\\r\\n僕の手は何のためにあるか \\r\\nただ\\u3000飾りものとは言わぬ一部 \\r\\nもう\\u3000そして僕に何が足りないか \\r\\n今も\\u3000分からない', \"罅割れたビー玉から零れ落ちた 夏の吐息に耳を澄ましても\\r\\n取り残された孤独な世界の向こう側からは抜け出せなくて\\r\\n\\r\\n曖昧な返事で濁してきた 傷付く事を避けては \\r\\n向き合うことも出来ずに 押し殺した感情も\\r\\n逸してしまったその目も 触れて壊してしまうのが怖かったから\\r\\n\\r\\n手を伸ばしてみても\\u3000埋まらなかった距離は\\r\\n綺麗な関係では\\u3000届かないと知った\\r\\n解けて 離れた 戻せはしないのに\\r\\n止め処無く溢れ出す後悔を 雨が溶かしてった\\r\\n\\r\\n分かろうと歩み寄った 僕なりに 自信はないけど信じてみたくて\\r\\n裏切られることの痛みは終わりが無い 知ってるから怖いけれど\\r\\n\\r\\n近づいて\\u3000すれ違い\\u3000離れていった 誰もいないこの場所では言葉は消えていくだけ\\r\\n立ち止まって迷って鍵をかけて逃げる度擦り減っていった 心の奥がずっと痛い\\r\\n\\r\\n失って初めて気付くなら奪ってあげるよ もう It's too late 遠くに捨てていって\\r\\nごめんね\\u3000ありがとう\\u3000最後のさよならも言えてないけれどまだ 幸せに\\u3000笑っていて\\r\\n差し込む光も届かないほど深く 心地いい水圧に包まれて眠った\\r\\nもし目が醒めることがあるならばもう一度 誰かと分かりあえる日が来るといいな\"]\n",
            "[]\n"
          ]
        }
      ]
    }
  ],
  "metadata": {
    "colab": {
      "provenance": [],
      "gpuType": "T4"
    },
    "kernelspec": {
      "display_name": "Python 3",
      "name": "python3"
    },
    "language_info": {
      "name": "python"
    },
    "accelerator": "GPU"
  },
  "nbformat": 4,
  "nbformat_minor": 0
}